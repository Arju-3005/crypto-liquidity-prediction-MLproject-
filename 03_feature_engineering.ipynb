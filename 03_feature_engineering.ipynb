{
 "cells": [
  {
   "cell_type": "code",
   "execution_count": null,
   "id": "32857864",
   "metadata": {
    "vscode": {
     "languageId": "plaintext"
    }
   },
   "outputs": [],
   "source": [
    "# 03_feature_engineering.ipynb\n",
    "import pandas as pd\n",
    "from src.feature_engineering import add_moving_average, add_volatility, add_liquidity_ratio\n",
    "\n",
    "df = pd.read_csv('../data/processed/crypto_data_processed.csv')\n",
    "\n",
    "# Moving average of Close price\n",
    "df = add_moving_average(df, 'Close', window=7)\n",
    "\n",
    "# Volatility\n",
    "df = add_volatility(df, 'Close', window=7)\n",
    "\n",
    "# Liquidity Ratio\n",
    "df = add_liquidity_ratio(df, 'Volume', 'Close')\n",
    "\n",
    "# Save processed features\n",
    "df.to_csv('../data/processed/crypto_features.csv', index=False)\n",
    "df.head()\n"
   ]
  }
 ],
 "metadata": {
  "language_info": {
   "name": "python"
  }
 },
 "nbformat": 4,
 "nbformat_minor": 5
}
