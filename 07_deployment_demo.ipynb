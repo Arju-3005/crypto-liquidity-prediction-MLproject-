{
 "cells": [
  {
   "cell_type": "code",
   "execution_count": null,
   "id": "0087f8e2",
   "metadata": {},
   "outputs": [],
   "source": [
    "# 07_deployment_demo.ipynb\n",
    "import streamlit as st\n",
    "import pandas as pd\n",
    "from src.data_preprocessing import handle_missing_values\n",
    "from src.models import get_models\n",
    "\n",
    "st.title(\"Crypto Liquidity Prediction Demo\")\n",
    "\n",
    "uploaded_file = st.file_uploader(\"Upload CSV\", type=\"csv\")\n",
    "\n",
    "if uploaded_file:\n",
    "    df = pd.read_csv(uploaded_file)\n",
    "    df = handle_missing_values(df)\n",
    "    st.dataframe(df.head())\n",
    "\n",
    "    models = get_models()\n",
    "    selected_model = st.selectbox(\"Select model\", list(models.keys()))\n",
    "\n",
    "    st.write(f\"You selected: {selected_model}\")\n",
    "    st.write(\"Prediction logic will be applied here (after training the model).\")\n"
   ]
  }
 ],
 "metadata": {
  "kernelspec": {
   "display_name": "Python 3",
   "language": "python",
   "name": "python3"
  },
  "language_info": {
   "name": "python",
   "version": "3.12.6"
  }
 },
 "nbformat": 4,
 "nbformat_minor": 5
}
