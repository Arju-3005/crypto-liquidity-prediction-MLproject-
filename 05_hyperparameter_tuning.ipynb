{
 "cells": [
  {
   "cell_type": "code",
   "execution_count": null,
   "id": "e3ae1949",
   "metadata": {
    "vscode": {
     "languageId": "plaintext"
    }
   },
   "outputs": [],
   "source": [
    "# 05_hyperparameter_tuning.ipynb\n",
    "from sklearn.model_selection import GridSearchCV\n",
    "from xgboost import XGBRegressor\n",
    "import pandas as pd\n",
    "\n",
    "# Load data\n",
    "df = pd.read_csv('../data/processed/crypto_features.csv')\n",
    "X = df.drop(['Liquidity_Ratio'], axis=1)\n",
    "y = df['Liquidity_Ratio']\n",
    "\n",
    "# Hyperparameter tuning for XGBoost\n",
    "xgb = XGBRegressor()\n",
    "params = {\n",
    "    'n_estimators': [50, 100, 200],\n",
    "    'max_depth': [3, 5, 7],\n",
    "    'learning_rate': [0.01, 0.1, 0.2]\n",
    "}\n",
    "\n",
    "grid = GridSearchCV(xgb, param_grid=params, cv=3, scoring='r2')\n",
    "grid.fit(X, y)\n",
    "\n",
    "print(\"Best params:\", grid.best_params_)\n",
    "print(\"Best R2:\", grid.best_score_)\n"
   ]
  }
 ],
 "metadata": {
  "language_info": {
   "name": "python"
  }
 },
 "nbformat": 4,
 "nbformat_minor": 5
}
