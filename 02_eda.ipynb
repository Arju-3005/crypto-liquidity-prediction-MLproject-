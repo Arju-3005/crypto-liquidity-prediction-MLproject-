{
 "cells": [
  {
   "cell_type": "code",
   "execution_count": null,
   "id": "1bb21bb8",
   "metadata": {
    "vscode": {
     "languageId": "plaintext"
    }
   },
   "outputs": [],
   "source": [
    "# 02_eda.ipynb\n",
    "import pandas as pd\n",
    "import matplotlib.pyplot as plt\n",
    "import seaborn as sns\n",
    "from src.eda import plot_correlation, plot_trend\n",
    "\n",
    "# Load preprocessed data\n",
    "df = pd.read_csv('../data/processed/crypto_data_processed.csv')\n",
    "\n",
    "# Correlation heatmap\n",
    "plot_correlation(df)\n",
    "\n",
    "# Plot trend of Close price\n",
    "plot_trend(df, 'Close')\n"
   ]
  }
 ],
 "metadata": {
  "language_info": {
   "name": "python"
  }
 },
 "nbformat": 4,
 "nbformat_minor": 5
}
