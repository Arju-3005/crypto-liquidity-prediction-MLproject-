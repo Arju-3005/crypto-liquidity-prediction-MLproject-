{
 "cells": [
  {
   "cell_type": "code",
   "execution_count": null,
   "id": "198e8adb",
   "metadata": {
    "vscode": {
     "languageId": "plaintext"
    }
   },
   "outputs": [],
   "source": [
    "# 01_data_preprocessing.ipynb\n",
    "import pandas as pd\n",
    "from src.data_preprocessing import load_data, handle_missing_values, normalize_features\n",
    "\n",
    "# Load dataset\n",
    "file_path = '../data/raw/crypto_data.csv'  # Update with your file\n",
    "df = load_data(file_path)\n",
    "\n",
    "# Handle missing values\n",
    "df = handle_missing_values(df)\n",
    "\n",
    "# Normalize numerical features\n",
    "numerical_cols = ['Open', 'High', 'Low', 'Close', 'Volume']\n",
    "df = normalize_features(df, numerical_cols)\n",
    "\n",
    "# Preview data\n",
    "df.head()\n"
   ]
  },
  {
   "cell_type": "code",
   "execution_count": null,
   "id": "5d261110",
   "metadata": {
    "vscode": {
     "languageId": "plaintext"
    }
   },
   "outputs": [],
   "source": []
  },
  {
   "cell_type": "code",
   "execution_count": null,
   "id": "e35b1b14",
   "metadata": {
    "vscode": {
     "languageId": "plaintext"
    }
   },
   "outputs": [],
   "source": []
  }
 ],
 "metadata": {
  "language_info": {
   "name": "python"
  }
 },
 "nbformat": 4,
 "nbformat_minor": 5
}
