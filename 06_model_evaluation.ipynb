{
 "cells": [
  {
   "cell_type": "code",
   "execution_count": null,
   "id": "6d9de692",
   "metadata": {
    "vscode": {
     "languageId": "plaintext"
    }
   },
   "outputs": [],
   "source": [
    "# 06_model_evaluation.ipynb\n",
    "import pandas as pd\n",
    "from src.evaluate import evaluate_model\n",
    "from src.models import get_models\n",
    "from src.train import train_model\n",
    "\n",
    "df = pd.read_csv('../data/processed/crypto_features.csv')\n",
    "X = df.drop(['Liquidity_Ratio'], axis=1)\n",
    "y = df['Liquidity_Ratio']\n",
    "\n",
    "models = get_models()\n",
    "\n",
    "for name, model in models.items():\n",
    "    trained_model, rmse, r2 = train_model(model, X, y)\n",
    "    print(f'{name} -> RMSE: {rmse:.4f}, R2: {r2:.4f}')\n"
   ]
  }
 ],
 "metadata": {
  "language_info": {
   "name": "python"
  }
 },
 "nbformat": 4,
 "nbformat_minor": 5
}
