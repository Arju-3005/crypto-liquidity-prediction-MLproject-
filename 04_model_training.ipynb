{
 "cells": [
  {
   "cell_type": "code",
   "execution_count": null,
   "id": "cd03180e",
   "metadata": {
    "vscode": {
     "languageId": "plaintext"
    }
   },
   "outputs": [],
   "source": [
    "# 04_model_training.ipynb\n",
    "import pandas as pd\n",
    "from src.models import get_models\n",
    "from src.train import train_model\n",
    "\n",
    "# Load feature data\n",
    "df = pd.read_csv('../data/processed/crypto_features.csv')\n",
    "\n",
    "# Define X and y\n",
    "X = df.drop(['Liquidity_Ratio'], axis=1)\n",
    "y = df['Liquidity_Ratio']\n",
    "\n",
    "# Get models\n",
    "models = get_models()\n",
    "\n",
    "# Train and evaluate each model\n",
    "for name, model in models.items():\n",
    "    trained_model, rmse, r2 = train_model(model, X, y)\n",
    "    print(f'{name} -> RMSE: {rmse:.4f}, R2: {r2:.4f}')\n"
   ]
  }
 ],
 "metadata": {
  "language_info": {
   "name": "python"
  }
 },
 "nbformat": 4,
 "nbformat_minor": 5
}
